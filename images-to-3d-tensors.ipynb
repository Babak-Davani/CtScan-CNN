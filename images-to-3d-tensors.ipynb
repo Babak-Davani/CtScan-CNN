{
 "cells": [
  {
   "cell_type": "code",
   "execution_count": 12,
   "metadata": {
    "_cell_guid": "b1076dfc-b9ad-4769-8c92-a6c4dae69d19",
    "_uuid": "8f2839f25d086af736a60e9eeb907d3b93b6e0e5",
    "tags": []
   },
   "outputs": [],
   "source": [
    "import os\n",
    "import pickle\n",
    "import random\n",
    "from tqdm import tqdm\n",
    "from joblib import Parallel, delayed\n",
    "\n",
    "import torch\n",
    "import torch.nn as nn\n",
    "import numpy as np\n",
    "import pandas as pd\n",
    "from PIL import Image\n",
    "from torchvision.transforms import Resize\n",
    "import torch.nn.functional as F\n",
    "\n",
    "\n",
    "import re"
   ]
  },
  {
   "cell_type": "code",
   "execution_count": 2,
   "metadata": {
    "tags": []
   },
   "outputs": [],
   "source": [
    "data_dir = \"S:/Capston/data2\"\n",
    "\n",
    "\n",
    "SAVE_FOLDER = \"S:/_tmp/\""
   ]
  },
  {
   "cell_type": "code",
   "execution_count": 3,
   "metadata": {
    "tags": []
   },
   "outputs": [],
   "source": [
    "series_meta_df = pd.read_csv(os.path.join(data_dir,'train_series_meta.csv'))"
   ]
  },
  {
   "cell_type": "code",
   "execution_count": 4,
   "metadata": {
    "tags": []
   },
   "outputs": [
    {
     "data": {
      "text/plain": [
       "(4711, 4)"
      ]
     },
     "execution_count": 4,
     "metadata": {},
     "output_type": "execute_result"
    }
   ],
   "source": [
    "series_meta_df.shape"
   ]
  },
  {
   "cell_type": "code",
   "execution_count": null,
   "metadata": {
    "tags": []
   },
   "outputs": [],
   "source": [
    "# import csv\n",
    "# # Write the list of .png files to a CSV file\n",
    "# with open(os.path.join(data_dir,\"images_file_name.csv\"), 'w', newline='') as file:\n",
    "#     writer = csv.writer(file)\n",
    "#     writer.writerows(list_img)"
   ]
  },
  {
   "cell_type": "code",
   "execution_count": 36,
   "metadata": {
    "tags": []
   },
   "outputs": [
    {
     "name": "stdout",
     "output_type": "stream",
     "text": [
      "4711 / 4711, images in series:8398\r"
     ]
    }
   ],
   "source": [
    "list_img =os.listdir(os.path.join(data_dir,'train_images/'))\n",
    "series_meta_df = pd.read_csv(os.path.join(data_dir,'train_series_meta.csv'))                             \n",
    "lenght = series_meta_df.shape[0]     \n",
    "img_paths = []\n",
    "for index, row in series_meta_df.iterrows():\n",
    "    scans = []\n",
    "    patient = row[\"patient_id\"]\n",
    "    series = row[\"series_id\"]\n",
    "    pattern = \"^\" + str(int(patient)) + \"_\"+ str(int(series)) + \"_\"\n",
    "    series_img_list  = [file for file in list_img if bool(re.match(pattern, file))]\n",
    "    list_img = [file for file in list_img if file not in series_img_list ]\n",
    "    series_img_paths = [os.path.join(data_dir, 'train_images/') + file for file in series_img_list]\n",
    "    print(f\"{index+1} / {lenght}, images in series:{len(series_img_paths)}\", end='\\r')\n",
    "    img_paths.append(series_img_paths)"
   ]
  },
  {
   "cell_type": "code",
   "execution_count": 44,
   "metadata": {
    "tags": []
   },
   "outputs": [],
   "source": [
    "# import csv\n",
    "# # Write the list of .png files to a CSV file\n",
    "# with open(os.path.join(data_dir,\"img_paths.csv\"), 'w', newline='') as file:\n",
    "#     writer = csv.writer(file)\n",
    "#     writer.writerows(img_paths)"
   ]
  },
  {
   "cell_type": "code",
   "execution_count": 5,
   "metadata": {
    "tags": []
   },
   "outputs": [],
   "source": [
    "# import csv\n",
    "\n",
    "# # Define the path to the CSV file\n",
    "# csv_file_path = os.path.join(data_dir, \"img_paths.csv\")\n",
    "\n",
    "# # Initialize a list to store the data from the CSV file\n",
    "# img_paths = []\n",
    "\n",
    "# # Read the CSV file\n",
    "# with open(csv_file_path, 'r') as file:\n",
    "#     reader = csv.reader(file)\n",
    "#     for row in reader:\n",
    "#         img_paths.append(row)"
   ]
  },
  {
   "cell_type": "code",
   "execution_count": 7,
   "metadata": {
    "tags": []
   },
   "outputs": [
    {
     "data": {
      "text/plain": [
       "4711"
      ]
     },
     "execution_count": 7,
     "metadata": {},
     "output_type": "execute_result"
    }
   ],
   "source": [
    "len(img_paths)"
   ]
  },
  {
   "cell_type": "code",
   "execution_count": 15,
   "metadata": {
    "tags": []
   },
   "outputs": [],
   "source": [
    "def Series_to_tensor(paths):\n",
    "    series_tensor = torch.zeros(store_res, store_res, len(paths))\n",
    "    for index, path in enumerate(paths):\n",
    "        image = Image.open(path)\n",
    "        image = np.array(image)\n",
    "        image = torch.tensor(image, dtype=torch.float32)\n",
    "\n",
    "        #resize the 2d image \n",
    "        if image.shape != torch.Size([store_res, store_res]):\n",
    "            image = image.unsqueeze(0).unsqueeze(0)\n",
    "            image = F.interpolate(image, (store_res, store_res))\n",
    "            image = image.squeeze(0).squeeze(0)\n",
    "        series_tensor[:,:,index] = image\n",
    "\n",
    "    # Resize the 3d image along the vertical dimension.            \n",
    "    series_tensor = series_tensor.unsqueeze(0).unsqueeze(0)\n",
    "    series_tensor = F.interpolate(series_tensor, (store_res, store_res, store_res))\n",
    "    series_tensor = series_tensor.squeeze(0).squeeze(0)\n",
    "    return series_tensor"
   ]
  },
  {
   "cell_type": "code",
   "execution_count": 19,
   "metadata": {
    "tags": []
   },
   "outputs": [
    {
     "name": "stderr",
     "output_type": "stream",
     "text": [
      "100%|████████████████████████████████████████████████████████████████████████████| 4711/4711 [7:55:24<00:00,  6.05s/it]\n"
     ]
    }
   ],
   "source": [
    "# Defining resolution\n",
    "store_res = 180\n",
    "Root = \"S:/Capston/data3\" \n",
    "# Iterate over rows with tqdm progress bar\n",
    "for index, row in tqdm(series_meta_df.iterrows(), total=len(series_meta_df)):\n",
    "    \n",
    "    patient = row[\"patient_id\"]\n",
    "    series = row[\"series_id\"]\n",
    "\n",
    "    series_tensor = Series_to_tensor(img_paths[index])\n",
    "    torch.save(series_tensor, os.path.join(Root, str(int(patient)) + '_' + str(int(series)) + '.pt'))"
   ]
  },
  {
   "cell_type": "code",
   "execution_count": null,
   "metadata": {},
   "outputs": [],
   "source": []
  }
 ],
 "metadata": {
  "kernelspec": {
   "display_name": "capstone_env",
   "language": "python",
   "name": "capstone_env"
  },
  "language_info": {
   "codemirror_mode": {
    "name": "ipython",
    "version": 3
   },
   "file_extension": ".py",
   "mimetype": "text/x-python",
   "name": "python",
   "nbconvert_exporter": "python",
   "pygments_lexer": "ipython3",
   "version": "3.11.5"
  }
 },
 "nbformat": 4,
 "nbformat_minor": 4
}

{
 "cells": [
  {
   "cell_type": "markdown",
   "id": "07c9afca-d62f-47f7-a792-923bd2350ca1",
   "metadata": {},
   "source": [
    "# CNN Model using PyTorch for Abdominal Trauma Detection in CT scan\n",
    "\n",
    "> Detect and classify traumatic abdominal injuries\n",
    "\n",
    "![](https://www.kaggle.com/competitions/52254/images/header)"
   ]
  },
  {
   "cell_type": "code",
   "execution_count": 1,
   "id": "666ca6b6-86ce-4c13-8937-d357f8c4e646",
   "metadata": {
    "tags": []
   },
   "outputs": [],
   "source": [
    "# Importing libraries\n",
    "import pandas as pd\n",
    "import numpy as np\n",
    "import matplotlib.pylab as plt\n",
    "import os \n",
    "\n",
    "from tqdm import tqdm\n",
    "\n",
    "from sklearn.model_selection import train_test_split\n",
    "\n",
    "import torch\n",
    "from torch.utils.data import Dataset, DataLoader\n",
    "from torch.utils.data import WeightedRandomSampler\n",
    "import torch.nn as nn\n",
    "import torch.nn.functional as F\n",
    "import torch.optim as optim"
   ]
  },
  {
   "cell_type": "markdown",
   "id": "1cea956d-03b7-41e7-9ab4-aed5faff5500",
   "metadata": {},
   "source": [
    "# Version Check"
   ]
  },
  {
   "cell_type": "code",
   "execution_count": 2,
   "id": "927082e8-d650-49fa-b5b3-7da145a3c829",
   "metadata": {},
   "outputs": [
    {
     "name": "stdout",
     "output_type": "stream",
     "text": [
      "np: 1.26.0\n",
      "pd: 2.1.3\n",
      "sklearn: 1.3.2\n",
      "tf: 2.10.0\n",
      "tfp: 0.14.0\n",
      "tfa: 0.22.0\n",
      "w&b: 0.16.0\n"
     ]
    }
   ],
   "source": [
    "print('np:', np.__version__)\n",
    "print('pd:', pd.__version__)\n",
    "print('sklearn:', sklearn.__version__)\n",
    "print('torch:',tf.__version__)"
   ]
  },
  {
   "cell_type": "markdown",
   "id": "46faf74d-ae99-4473-a4a1-2f967483c44f",
   "metadata": {},
   "source": [
    "## 1. Data Loading and Preprocessing\n",
    "First, we'll define the code for loading and preprocessing the data. This involves normalizing the tensors and splitting the dataset into training and validation sets."
   ]
  },
  {
   "cell_type": "markdown",
   "id": "dfe795d3-eb14-489a-af21-2e7155dd693f",
   "metadata": {},
   "source": [
    "### Dataset Preparation with Balancing"
   ]
  },
  {
   "cell_type": "code",
   "execution_count": 2,
   "id": "d1267a54-5796-434c-9245-a918cd327b80",
   "metadata": {
    "tags": []
   },
   "outputs": [],
   "source": [
    "#define my path in hard drive\n",
    "# Windows\n",
    "data_dir = \"S:/Capston/data2\"\n",
    "# My 3D tensor files directory\n",
    "SAVE_FOLDER = \"S:/Capston/data4\""
   ]
  },
  {
   "cell_type": "code",
   "execution_count": 3,
   "id": "039fad47-4380-49e7-b7df-96713cb30b3c",
   "metadata": {},
   "outputs": [],
   "source": [
    "class CFG:\n",
    "    model_name = 'PyTorch_CNN'\n",
    "\n",
    "    # size of the image\n",
    "    img_size = [128, 128]\n",
    "\n",
    "    # seed for data-split, layer init, augs\n",
    "    seed = 42\n",
    "\n",
    "    # batch_size, epochs and learning_rate \n",
    "    batch_size = 16  \n",
    "    epochs = 4    \n",
    "    learning_rate = 0.001  q\n",
    "    \n",
    "    # target column\n",
    "    target_col  = ['bowel_injury', 'kidney_healthy', 'kidney_low', 'kidney_high',\n",
    "       'liver_healthy', 'liver_low', 'liver_high', 'spleen_healthy',\n",
    "       'spleen_low', 'spleen_high'] # not using 'bowel_healthy', 'extravasation_healthy', 'extravasation_injury' & 'any_injury'"
   ]
  },
  {
   "cell_type": "code",
   "execution_count": 4,
   "id": "fcfc394e-a8a6-4fca-b223-1f730b6abe9e",
   "metadata": {
    "scrolled": true,
    "tags": []
   },
   "outputs": [
    {
     "data": {
      "text/plain": [
       "(3147, 16)"
      ]
     },
     "execution_count": 4,
     "metadata": {},
     "output_type": "execute_result"
    }
   ],
   "source": [
    "# Read CSV and making dataframe\n",
    "df = pd.read_csv(os.path.join(data_dir,'patients_meta_plus_path.csv'))\n",
    "# sanity check\n",
    "df.shape"
   ]
  },
  {
   "cell_type": "code",
   "execution_count": 5,
   "id": "970a181e-d61f-401e-a690-2333355c40ed",
   "metadata": {
    "tags": []
   },
   "outputs": [
    {
     "data": {
      "text/html": [
       "<div>\n",
       "<style scoped>\n",
       "    .dataframe tbody tr th:only-of-type {\n",
       "        vertical-align: middle;\n",
       "    }\n",
       "\n",
       "    .dataframe tbody tr th {\n",
       "        vertical-align: top;\n",
       "    }\n",
       "\n",
       "    .dataframe thead th {\n",
       "        text-align: right;\n",
       "    }\n",
       "</style>\n",
       "<table border=\"1\" class=\"dataframe\">\n",
       "  <thead>\n",
       "    <tr style=\"text-align: right;\">\n",
       "      <th></th>\n",
       "      <th>patient_id</th>\n",
       "      <th>bowel_healthy</th>\n",
       "      <th>bowel_injury</th>\n",
       "      <th>extravasation_healthy</th>\n",
       "      <th>extravasation_injury</th>\n",
       "      <th>kidney_healthy</th>\n",
       "      <th>kidney_low</th>\n",
       "      <th>kidney_high</th>\n",
       "      <th>liver_healthy</th>\n",
       "      <th>liver_low</th>\n",
       "      <th>liver_high</th>\n",
       "      <th>spleen_healthy</th>\n",
       "      <th>spleen_low</th>\n",
       "      <th>spleen_high</th>\n",
       "      <th>any_injury</th>\n",
       "      <th>paths</th>\n",
       "    </tr>\n",
       "  </thead>\n",
       "  <tbody>\n",
       "    <tr>\n",
       "      <th>0</th>\n",
       "      <td>10004</td>\n",
       "      <td>1</td>\n",
       "      <td>0</td>\n",
       "      <td>0</td>\n",
       "      <td>1</td>\n",
       "      <td>0</td>\n",
       "      <td>1</td>\n",
       "      <td>0</td>\n",
       "      <td>1</td>\n",
       "      <td>0</td>\n",
       "      <td>0</td>\n",
       "      <td>0</td>\n",
       "      <td>0</td>\n",
       "      <td>1</td>\n",
       "      <td>1</td>\n",
       "      <td>S:\\Capston\\data4\\10004.pt</td>\n",
       "    </tr>\n",
       "    <tr>\n",
       "      <th>1</th>\n",
       "      <td>10005</td>\n",
       "      <td>1</td>\n",
       "      <td>0</td>\n",
       "      <td>1</td>\n",
       "      <td>0</td>\n",
       "      <td>1</td>\n",
       "      <td>0</td>\n",
       "      <td>0</td>\n",
       "      <td>1</td>\n",
       "      <td>0</td>\n",
       "      <td>0</td>\n",
       "      <td>1</td>\n",
       "      <td>0</td>\n",
       "      <td>0</td>\n",
       "      <td>0</td>\n",
       "      <td>S:\\Capston\\data4\\10005.pt</td>\n",
       "    </tr>\n",
       "    <tr>\n",
       "      <th>2</th>\n",
       "      <td>10007</td>\n",
       "      <td>1</td>\n",
       "      <td>0</td>\n",
       "      <td>1</td>\n",
       "      <td>0</td>\n",
       "      <td>1</td>\n",
       "      <td>0</td>\n",
       "      <td>0</td>\n",
       "      <td>1</td>\n",
       "      <td>0</td>\n",
       "      <td>0</td>\n",
       "      <td>1</td>\n",
       "      <td>0</td>\n",
       "      <td>0</td>\n",
       "      <td>0</td>\n",
       "      <td>S:\\Capston\\data4\\10007.pt</td>\n",
       "    </tr>\n",
       "    <tr>\n",
       "      <th>3</th>\n",
       "      <td>10026</td>\n",
       "      <td>1</td>\n",
       "      <td>0</td>\n",
       "      <td>1</td>\n",
       "      <td>0</td>\n",
       "      <td>1</td>\n",
       "      <td>0</td>\n",
       "      <td>0</td>\n",
       "      <td>1</td>\n",
       "      <td>0</td>\n",
       "      <td>0</td>\n",
       "      <td>1</td>\n",
       "      <td>0</td>\n",
       "      <td>0</td>\n",
       "      <td>0</td>\n",
       "      <td>S:\\Capston\\data4\\10026.pt</td>\n",
       "    </tr>\n",
       "    <tr>\n",
       "      <th>4</th>\n",
       "      <td>10051</td>\n",
       "      <td>1</td>\n",
       "      <td>0</td>\n",
       "      <td>1</td>\n",
       "      <td>0</td>\n",
       "      <td>1</td>\n",
       "      <td>0</td>\n",
       "      <td>0</td>\n",
       "      <td>1</td>\n",
       "      <td>0</td>\n",
       "      <td>0</td>\n",
       "      <td>0</td>\n",
       "      <td>1</td>\n",
       "      <td>0</td>\n",
       "      <td>1</td>\n",
       "      <td>S:\\Capston\\data4\\10051.pt</td>\n",
       "    </tr>\n",
       "  </tbody>\n",
       "</table>\n",
       "</div>"
      ],
      "text/plain": [
       "   patient_id  bowel_healthy  bowel_injury  extravasation_healthy  \\\n",
       "0       10004              1             0                      0   \n",
       "1       10005              1             0                      1   \n",
       "2       10007              1             0                      1   \n",
       "3       10026              1             0                      1   \n",
       "4       10051              1             0                      1   \n",
       "\n",
       "   extravasation_injury  kidney_healthy  kidney_low  kidney_high  \\\n",
       "0                     1               0           1            0   \n",
       "1                     0               1           0            0   \n",
       "2                     0               1           0            0   \n",
       "3                     0               1           0            0   \n",
       "4                     0               1           0            0   \n",
       "\n",
       "   liver_healthy  liver_low  liver_high  spleen_healthy  spleen_low  \\\n",
       "0              1          0           0               0           0   \n",
       "1              1          0           0               1           0   \n",
       "2              1          0           0               1           0   \n",
       "3              1          0           0               1           0   \n",
       "4              1          0           0               0           1   \n",
       "\n",
       "   spleen_high  any_injury                      paths  \n",
       "0            1           1  S:\\Capston\\data4\\10004.pt  \n",
       "1            0           0  S:\\Capston\\data4\\10005.pt  \n",
       "2            0           0  S:\\Capston\\data4\\10007.pt  \n",
       "3            0           0  S:\\Capston\\data4\\10026.pt  \n",
       "4            0           1  S:\\Capston\\data4\\10051.pt  "
      ]
     },
     "execution_count": 5,
     "metadata": {},
     "output_type": "execute_result"
    }
   ],
   "source": [
    "df.head()"
   ]
  },
  {
   "cell_type": "code",
   "execution_count": 6,
   "id": "e43cdb22-5384-4cd2-8600-cabd307d7af5",
   "metadata": {
    "tags": []
   },
   "outputs": [
    {
     "data": {
      "text/plain": [
       "Index(['patient_id', 'bowel_healthy', 'bowel_injury', 'extravasation_healthy',\n",
       "       'extravasation_injury', 'kidney_healthy', 'kidney_low', 'kidney_high',\n",
       "       'liver_healthy', 'liver_low', 'liver_high', 'spleen_healthy',\n",
       "       'spleen_low', 'spleen_high', 'any_injury', 'paths'],\n",
       "      dtype='object')"
      ]
     },
     "execution_count": 6,
     "metadata": {},
     "output_type": "execute_result"
    }
   ],
   "source": [
    "df.columns"
   ]
  },
  {
   "cell_type": "code",
   "execution_count": 7,
   "id": "e12e9e53-e71d-4737-9220-ab03d9c2867a",
   "metadata": {
    "tags": []
   },
   "outputs": [],
   "source": [
    "df = df.drop(columns=['bowel_healthy', 'extravasation_healthy',\n",
    "       'extravasation_injury','any_injury'])"
   ]
  },
  {
   "cell_type": "code",
   "execution_count": 8,
   "id": "1831f951-08ff-4a88-9362-47390bd9fb22",
   "metadata": {
    "tags": []
   },
   "outputs": [],
   "source": [
    "# Splitting the dataset\n",
    "remain_df, test_df = train_test_split(df, test_size=0.2, random_state=CFG.seed)  # 20% data for testing\n",
    "train_df, val_df = train_test_split(remain_df, test_size=0.25, random_state=CFG.seed)  # 60% training, 20% validation\n",
    "\n",
    "# Balancing the training dataset\n",
    "class_counts = train_df[['bowel_injury', 'kidney_healthy', 'kidney_low', 'kidney_high',\n",
    "       'liver_healthy', 'liver_low', 'liver_high', 'spleen_healthy',\n",
    "       'spleen_low', 'spleen_high']].sum().values\n",
    "num_samples = len(train_df)\n",
    "weights = 1. / class_counts\n",
    "samples_weights = weights[train_df[['bowel_injury', 'kidney_healthy', 'kidney_low', 'kidney_high',\n",
    "       'liver_healthy', 'liver_low', 'liver_high', 'spleen_healthy',\n",
    "       'spleen_low', 'spleen_high']].values.argmax(axis=1)]\n",
    "sampler = WeightedRandomSampler(samples_weights, num_samples)\n"
   ]
  },
  {
   "cell_type": "code",
   "execution_count": 9,
   "id": "36d4f962-d343-4330-8f23-1fd2291d17f1",
   "metadata": {
    "tags": []
   },
   "outputs": [],
   "source": [
    "class CTScanDataset(Dataset):\n",
    "    def __init__(self, dataframe, root_dir, transform=None):\n",
    "        \"\"\"\n",
    "        Args:\n",
    "            dataframe (DataFrame): DataFrame containing the file paths and labels.\n",
    "            root_dir (string): Directory with all the tensor files.\n",
    "            transform (callable, optional): Optional transform to be applied on a sample.\n",
    "        \"\"\"\n",
    "        self.dataframe = dataframe\n",
    "        self.root_dir = root_dir\n",
    "        self.transform = transform\n",
    "\n",
    "    def __len__(self):\n",
    "        return len(self.dataframe)\n",
    "\n",
    "    def __getitem__(self, idx):\n",
    "        \n",
    "        img_name = os.path.join(self.root_dir, self.dataframe.iloc[idx, -1])\n",
    "        # ... load the image ...\n",
    "        image = torch.load(img_name)\n",
    "        # Add a channel dimension\n",
    "        image = image.unsqueeze(0)  # This adds a channel dimension\n",
    "        labels = self.dataframe.iloc[idx, 1:-1].values\n",
    "        labels = torch.from_numpy(labels.astype('float')).float()\n",
    "\n",
    "        if self.transform:\n",
    "            image = self.transform(image)\n",
    "\n",
    "        return image, labels\n",
    "\n",
    "# Dataset and DataLoader\n",
    "train_dataset = CTScanDataset(train_df, SAVE_FOLDER)\n",
    "val_dataset = CTScanDataset(val_df, SAVE_FOLDER)\n",
    "test_dataset = CTScanDataset(test_df, SAVE_FOLDER)\n",
    "\n",
    "train_loader = DataLoader(train_dataset, batch_size=CFG.batch_size, sampler=sampler)\n",
    "val_loader = DataLoader(val_dataset, batch_size=CFG.batch_size, shuffle=False)\n",
    "test_loader = DataLoader(test_dataset, batch_size=CFG.batch_size, shuffle=False)\n"
   ]
  },
  {
   "cell_type": "markdown",
   "id": "07f22bc2-76de-4f7d-9cab-b5c4a4291298",
   "metadata": {},
   "source": [
    "## 2. CNN Model Architecture\n",
    "Next, we'll define a simple 3D CNN model architecture."
   ]
  },
  {
   "cell_type": "code",
   "execution_count": 10,
   "id": "d9908682-785c-45b9-b60d-1ebcebcc177e",
   "metadata": {
    "tags": []
   },
   "outputs": [],
   "source": [
    "class Combined3DCNN(nn.Module):\n",
    "    def __init__(self):\n",
    "        super(Combined3DCNN, self).__init__()\n",
    "\n",
    "        # First convolutional layer: \n",
    "        # Input channels = 1, output channels = 64, kernel size = 3\n",
    "        self.conv1 = nn.Conv3d(1, 64, kernel_size=3)\n",
    "        # Batch normalization for the first convolutional layer\n",
    "        self.bn1 = nn.BatchNorm3d(64)\n",
    "\n",
    "        # Second convolutional layer: \n",
    "        # Input channels = 64 (from previous layer), output channels = 64, kernel size = 3\n",
    "        self.conv2 = nn.Conv3d(64, 64, kernel_size=3)\n",
    "        # Batch normalization for the second convolutional layer\n",
    "        self.bn2 = nn.BatchNorm3d(64)\n",
    "\n",
    "        # Third convolutional layer: \n",
    "        # Input channels = 64, output channels = 128, kernel size = 3\n",
    "        self.conv3 = nn.Conv3d(64, 128, kernel_size=3)\n",
    "        # Batch normalization for the third convolutional layer\n",
    "        self.bn3 = nn.BatchNorm3d(128)\n",
    "\n",
    "        # Fourth convolutional layer: \n",
    "        # Input channels = 128, output channels = 256, kernel size = 3\n",
    "        self.conv4 = nn.Conv3d(128, 256, kernel_size=3)\n",
    "        # Batch normalization for the fourth convolutional layer\n",
    "        self.bn4 = nn.BatchNorm3d(256)\n",
    "\n",
    "        # Max pooling layer with a kernel size of 2\n",
    "        self.pool = nn.MaxPool3d(2)\n",
    "\n",
    "        # Global average pooling layer to reduce spatial dimensions to 1\n",
    "        self.global_avg_pool = nn.AdaptiveAvgPool3d(1)\n",
    "\n",
    "        # Fully connected layers\n",
    "        # First fully connected layer, input features = 256 (from the last conv layer), output features = 120\n",
    "        self.fc1 = nn.Linear(256, 120)\n",
    "        # Second fully connected layer, input features = 120, output features = 84\n",
    "        self.fc2 = nn.Linear(120, 84)\n",
    "        # Third fully connected layer, input features = 84, output features = 10 (for 10 output nodes)\n",
    "        self.fc3 = nn.Linear(84, 10)\n",
    "\n",
    "    def forward(self, x):\n",
    "        # Apply first conv layer followed by ReLU activation function and pooling\n",
    "        x = self.pool(F.relu(self.bn1(self.conv1(x))))\n",
    "        # Apply second conv layer followed by ReLU activation function and pooling\n",
    "        x = self.pool(F.relu(self.bn2(self.conv2(x))))\n",
    "        # Apply third conv layer followed by ReLU activation function and pooling\n",
    "        x = self.pool(F.relu(self.bn3(self.conv3(x))))\n",
    "        # Apply fourth conv layer followed by ReLU activation function and pooling\n",
    "        x = self.pool(F.relu(self.bn4(self.conv4(x))))\n",
    "        # Apply global average pooling\n",
    "        x = self.global_avg_pool(x)\n",
    "        # Flatten the output for the fully connected layer\n",
    "        x = x.view(x.size(0), -1)\n",
    "        # Apply first fully connected layer with ReLU activation\n",
    "        x = F.relu(self.fc1(x))\n",
    "        # Apply second fully connected layer with ReLU activation\n",
    "        x = F.relu(self.fc2(x))\n",
    "        # Apply third fully connected layer (no activation function here)\n",
    "        # Assuming use of cross-entropy loss which does not require softmax in the model definition\n",
    "        x = self.fc3(x)\n",
    "        return x\n",
    "\n",
    "# Create the model instance\n",
    "model2 = Combined3DCNN()\n",
    "\n",
    "# Print the model's structure\n",
    "print(model2)"
   ]
  },
  {
   "cell_type": "markdown",
   "id": "d53dcd52-90ad-4f5e-9633-4d8cdc329974",
   "metadata": {},
   "source": [
    "## 3. Training the Model\n",
    "Finally, we'll set up a basic training loop."
   ]
  },
  {
   "cell_type": "code",
   "execution_count": null,
   "id": "9d8b072b-4aca-41a9-a620-271e3b6d47b0",
   "metadata": {
    "tags": []
   },
   "outputs": [
    {
     "name": "stderr",
     "output_type": "stream",
     "text": [
      "Epoch 1: 100%|███████████████████████████████████████████████████████████████████████| 118/118 [42:56<00:00, 21.84s/it]\n"
     ]
    },
    {
     "name": "stdout",
     "output_type": "stream",
     "text": [
      "Epoch 1, Train Loss: 0.8575, Train Acc: 8.2989, Val Loss: 0.3500, Val Acc: 8.7604\n"
     ]
    },
    {
     "name": "stderr",
     "output_type": "stream",
     "text": [
      "Epoch 2:  93%|██████████████████████████████████████████████████████████████████▏    | 110/118 [39:22<03:08, 23.61s/it]"
     ]
    }
   ],
   "source": [
    "# Define the criterion and optimizer\n",
    "criterion = nn.BCEWithLogitsLoss() \n",
    "optimizer = optim.SGD(model.parameters(), lr=CFG.learning_rate, momentum=0.9)\n",
    "\n",
    "# Function to calculate accuracy\n",
    "def calculate_accuracy(outputs, labels):\n",
    "    predicted = (outputs > 0.5).float()\n",
    "    correct = (predicted == labels).float()  # convert to float for division\n",
    "    acc = correct.sum() / len(correct)\n",
    "    return acc\n",
    "\n",
    "# Arrays to track training and validation losses and accuracies\n",
    "train_losses = []\n",
    "val_losses = []\n",
    "train_accuracies = []\n",
    "val_accuracies = []\n",
    "\n",
    "# Training loop with accuracy tracking\n",
    "num_epochs = CFG.epochs \n",
    "for epoch in range(num_epochs):\n",
    "    model.train()\n",
    "    total_train_loss = 0.0\n",
    "    total_train_acc = 0.0\n",
    "\n",
    "    for inputs, labels in tqdm(train_loader, desc=f\"Epoch {epoch + 1}\"):\n",
    "        optimizer.zero_grad()\n",
    "        outputs = model(inputs)\n",
    "        loss = criterion(outputs, labels.float())\n",
    "        loss.backward()\n",
    "        optimizer.step()\n",
    "\n",
    "        total_train_loss += loss.item()\n",
    "        total_train_acc += calculate_accuracy(outputs, labels)\n",
    "\n",
    "    avg_train_loss = total_train_loss / len(train_loader)\n",
    "    avg_train_acc = total_train_acc / len(train_loader)\n",
    "    train_losses.append(avg_train_loss)\n",
    "    train_accuracies.append(avg_train_acc)\n",
    "\n",
    "    # Validation phase\n",
    "    model.eval()\n",
    "    total_val_loss = 0.0\n",
    "    total_val_acc = 0.0\n",
    "    with torch.no_grad():\n",
    "        for inputs, labels in val_loader:\n",
    "            outputs = model(inputs)\n",
    "            loss = criterion(outputs, labels.float())\n",
    "            total_val_loss += loss.item()\n",
    "            total_val_acc += calculate_accuracy(outputs, labels)\n",
    "\n",
    "    avg_val_loss = total_val_loss / len(val_loader)\n",
    "    avg_val_acc = total_val_acc / len(val_loader)\n",
    "    val_losses.append(avg_val_loss)\n",
    "    val_accuracies.append(avg_val_acc)\n",
    "\n",
    "    print(f'Epoch {epoch + 1}, Train Loss: {avg_train_loss:.4f}, Train Acc: {avg_train_acc:.4f}, Val Loss: {avg_val_loss:.4f}, Val Acc: {avg_val_acc:.4f}')\n",
    "\n",
    "print('Finished Training')"
   ]
  },
  {
   "cell_type": "markdown",
   "id": "ec40b21b-7e49-449e-b93d-8a1148d47700",
   "metadata": {},
   "source": [
    "## 4.Evaluate the Model"
   ]
  },
  {
   "cell_type": "code",
   "execution_count": null,
   "id": "25c43ba3-cbfb-4b80-9715-cdb8335eb4f1",
   "metadata": {},
   "outputs": [],
   "source": [
    "# Ensure the model is in evaluation mode\n",
    "\n",
    "model.eval()\n",
    "\n",
    "# Initialize counters\n",
    "label_correct = torch.zeros(10)  # Assuming 10 labels\n",
    "label_total = torch.zeros(10)\n",
    "\n",
    "# No gradient is needed for evaluation\n",
    "with torch.no_grad():\n",
    "    for data in test_loader:\n",
    "        images, labels = data\n",
    "        outputs = model(images)\n",
    "\n",
    "        # Convert outputs to predictions: apply a threshold for multi-label classification\n",
    "        predicted = (outputs > 0.5).float()\n",
    "        for i in range(10):  # Loop over each label\n",
    "            label_total[i] += len(labels[:, i])  # Total instances of each label\n",
    "            label_correct[i] += (predicted[:, i] == labels[:, i]).sum()  # Correct predictions for each label\n",
    "\n",
    "# Calculate the accuracy for each label\n",
    "label_accuracy = 100 * label_correct / label_total\n",
    "\n",
    "# Print accuracy for each label\n",
    "for i in range(10):\n",
    "    print(f'Accuracy for {CFG.target_col[i]}: {label_accuracy[i]:.2f}%')\n"
   ]
  },
  {
   "cell_type": "code",
   "execution_count": null,
   "id": "0e12c97b-266f-4505-8c7c-b40d43562978",
   "metadata": {},
   "outputs": [],
   "source": [
    "# saving my entire model\n",
    "torch.save(model, \"S:/Capston/data/model/\" + CFG.model_name + \"_\" + str(CFG.epochs) + \"epoch_\" + str(CFG.batch_size) + \"batch.pt\")"
   ]
  },
  {
   "cell_type": "code",
   "execution_count": null,
   "id": "cdbbdf13-2c69-4b4c-91e3-b139b21e25c2",
   "metadata": {},
   "outputs": [],
   "source": [
    "# Creating a figure and two subplots (axes) side by side\n",
    "fig, ax = plt.subplots(1, 2, figsize=(10, 5))\n",
    "\n",
    "# Flatten the array of axes to easily index each subplot\n",
    "ax = ax.ravel()\n",
    "\n",
    "# Plotting training and validation accuracies on the first subplot\n",
    "ax[0].plot(train_accuracies, label='Train Accuracy')  # Plot training accuracy\n",
    "ax[0].plot(val_accuracies, label='Val Accuracy')     # Plot validation accuracy\n",
    "ax[0].set_title('Model Accuracy')                    # Set title for the first subplot\n",
    "ax[0].set_xlabel('Epochs')                           # Set x-axis label for the first subplot\n",
    "ax[0].set_ylabel('Accuracy')                         # Set y-axis label for the first subplot\n",
    "ax[0].legend()                                       # Display legend for the first subplot\n",
    "\n",
    "# Plotting training and validation losses on the second subplot\n",
    "ax[1].plot(train_losses, label='Train Loss')         # Plot training loss\n",
    "ax[1].plot(val_losses, label='Val Loss')             # Plot validation loss\n",
    "ax[1].set_title('Model Loss')                        # Set title for the second subplot\n",
    "ax[1].set_xlabel('Epochs')                           # Set x-axis label for the second subplot\n",
    "ax[1].set_ylabel('Loss')                             # Set y-axis label for the second subplot\n",
    "ax[1].legend()                                       # Display legend for the second subplot\n",
    "\n",
    "# Display the plot\n",
    "plt.show()"
   ]
  }
 ],
 "metadata": {
  "kernelspec": {
   "display_name": "capstone_env",
   "language": "python",
   "name": "capstone_env"
  },
  "language_info": {
   "codemirror_mode": {
    "name": "ipython",
    "version": 3
   },
   "file_extension": ".py",
   "mimetype": "text/x-python",
   "name": "python",
   "nbconvert_exporter": "python",
   "pygments_lexer": "ipython3",
   "version": "3.10.8"
  }
 },
 "nbformat": 4,
 "nbformat_minor": 5
}

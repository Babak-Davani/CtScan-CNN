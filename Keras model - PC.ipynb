{
 "cells": [
  {
   "cell_type": "code",
   "execution_count": null,
   "id": "4856b74b-7e19-4207-9bd1-3fde64904c20",
   "metadata": {
    "tags": []
   },
   "outputs": [],
   "source": [
    "import os\n",
    "import numpy as np\n",
    "import pandas as pd\n",
    "import tensorflow as tf\n",
    "\n",
    "import torch\n",
    "from io import BytesIO\n",
    "from tensorflow import keras\n",
    "from tensorflow.keras import layers\n",
    "\n",
    "from sklearn.model_selection import train_test_split"
   ]
  },
  {
   "cell_type": "code",
   "execution_count": null,
   "id": "732d4094-b1b3-4a61-8e39-4a4bcba407c9",
   "metadata": {
    "tags": []
   },
   "outputs": [],
   "source": [
    "#define my path in hard drive\n",
    "# data_dir = \"/Volumes/S/Capston/data2\"\n",
    "data_dir = \"S:/Capston/data2\"\n",
    "SAVE_FOLDER = \"S:/_tmp/\""
   ]
  },
  {
   "cell_type": "code",
   "execution_count": null,
   "id": "890cbf6b-d3ed-451f-a0fc-92be4060d673",
   "metadata": {
    "tags": []
   },
   "outputs": [],
   "source": [
    "# Read CSV and making dataframe\n",
    "df = pd.read_csv(os.path.join(data_dir,'train.csv'))\n",
    "# sanity check\n",
    "df.shape"
   ]
  },
  {
   "cell_type": "code",
   "execution_count": null,
   "id": "a1d2e993-71b6-4e9e-a990-4cd14902ddb4",
   "metadata": {
    "scrolled": true,
    "tags": []
   },
   "outputs": [],
   "source": [
    "df.head()"
   ]
  },
  {
   "cell_type": "code",
   "execution_count": null,
   "id": "3980cea5-c69c-4eb4-b699-943192505f23",
   "metadata": {
    "tags": []
   },
   "outputs": [],
   "source": [
    "Root = \"S:/Capston/data4\"\n",
    "df['path'] = [os.path.join(Root, str(int(patient)) + '.pt') for patient in df['patient_id']]"
   ]
  },
  {
   "cell_type": "code",
   "execution_count": null,
   "id": "bd3391ab-d432-409c-85c0-63bb1d74ec5d",
   "metadata": {
    "tags": []
   },
   "outputs": [],
   "source": [
    "df.head()"
   ]
  },
  {
   "cell_type": "code",
   "execution_count": null,
   "id": "e006f399-8ac6-42a7-80eb-76671a68524d",
   "metadata": {
    "tags": []
   },
   "outputs": [],
   "source": [
    "# sanity check\n",
    "df.loc[df['extravasation_injury']==df['extravasation_healthy']]"
   ]
  },
  {
   "cell_type": "code",
   "execution_count": null,
   "id": "66ca7c31-dfb7-483f-9526-fee7ce0161d2",
   "metadata": {
    "tags": []
   },
   "outputs": [],
   "source": [
    "\n",
    "# Separate the data into two DataFrames based on the outcome\n",
    "df2 = df[['extravasation_injury', 'path']]\n",
    "df2_y0 = df2.loc[df2['extravasation_injury'] == 0]\n",
    "df2_y1 = df2.loc[df2['extravasation_injury'] == 1]\n",
    "\n",
    "# Get the minimum number of samples for balancing\n",
    "min_samples = min(len(df2_y0), len(df2_y1))\n",
    "\n",
    "# Sample an equal number of samples from both classes\n",
    "df_balanced = pd.concat([df2_y0.sample(min_samples, random_state=42), df2_y1.sample(min_samples, random_state=42)])\n",
    "\n",
    "# Define a function to get random (X, y) pair\n",
    "# def get_random_X_y_balanced(df):\n",
    "#     random_row = df.sample(1).iloc[0]\n",
    "#     tensor = torch.load(random_row['path'])\n",
    "#     outcome = random_row['extravasation_injury']\n",
    "    \n",
    "#     return tensor, outcome\n",
    "\n",
    "# Generate random (X, y) pairs\n",
    "X, y = np.array(df_balanced.iloc[:,1]), np.array(df_balanced.iloc[:,0])\n",
    "\n",
    "# Split your data into remain and testing sets\n",
    "\n",
    "X_remain, X_test, y_remain, y_test = train_test_split(X, y, test_size=0.2, random_state=42)"
   ]
  },
  {
   "cell_type": "code",
   "execution_count": null,
   "id": "22e6fd07-99bf-4b8c-91cd-520d4aee4a1d",
   "metadata": {
    "tags": []
   },
   "outputs": [],
   "source": [
    "def get_model(width=128, height=128, depth=128):\n",
    "    \"\"\"Build a 3D convolutional neural network model.\"\"\"\n",
    "\n",
    "    inputs = keras.Input((width, height, depth, 1))\n",
    "\n",
    "    x = layers.Conv3D(filters=64, kernel_size=3, activation=\"relu\")(inputs)\n",
    "    x = layers.MaxPool3D(pool_size=2)(x)\n",
    "    x = layers.BatchNormalization()(x)\n",
    "\n",
    "    x = layers.Conv3D(filters=64, kernel_size=3, activation=\"relu\")(x)\n",
    "    x = layers.MaxPool3D(pool_size=2)(x)\n",
    "    x = layers.BatchNormalization()(x)\n",
    "\n",
    "    x = layers.Conv3D(filters=128, kernel_size=3, activation=\"relu\")(x)\n",
    "    x = layers.MaxPool3D(pool_size=2)(x)\n",
    "    x = layers.BatchNormalization()(x)\n",
    "\n",
    "    x = layers.Conv3D(filters=256, kernel_size=3, activation=\"relu\")(x)\n",
    "    x = layers.MaxPool3D(pool_size=2)(x)\n",
    "    x = layers.BatchNormalization()(x)\n",
    "\n",
    "    x = layers.GlobalAveragePooling3D()(x)\n",
    "    x = layers.Dense(units=512, activation=\"relu\")(x)\n",
    "    x = layers.Dropout(0.3)(x)\n",
    "\n",
    "    outputs = layers.Dense(units=1, activation=\"sigmoid\")(x)\n",
    "\n",
    "    # Define the model.\n",
    "    model = keras.Model(inputs, outputs, name=\"3dcnn\")\n",
    "    return model\n",
    "\n",
    "\n",
    "# Build model.\n",
    "model = get_model(width=128, height=128, depth=128)\n",
    "model.summary()"
   ]
  },
  {
   "cell_type": "markdown",
   "id": "f5866c1e-e677-47a9-b887-04e5b96b54bb",
   "metadata": {},
   "source": [
    "# Train model"
   ]
  },
  {
   "cell_type": "code",
   "execution_count": null,
   "id": "89b92b62-97d8-43e0-a7c5-3a9d63f933fb",
   "metadata": {
    "tags": []
   },
   "outputs": [],
   "source": [
    "\n",
    "# Split data into training and validation sets\n",
    "X_train_path, X_val_path, y_train, y_val = train_test_split(X_remain, y_remain, test_size=0.2, random_state=42)\n",
    "X_train = np.array([torch.load(path).numpy() for path in X_train_path])\n",
    "X_val = np.array([torch.load(path).numpy() for path in X_val_path])"
   ]
  },
  {
   "cell_type": "code",
   "execution_count": null,
   "id": "c083c1ac-e518-4ed6-a9f5-39ceaaf81287",
   "metadata": {
    "tags": []
   },
   "outputs": [],
   "source": [
    "\n",
    "def train_preprocessing(volume, label):\n",
    "    \"\"\"Process training data by rotating and adding a channel.\"\"\"\n",
    "    volume = tf.expand_dims(volume, axis=3)\n",
    "    return volume, label\n",
    "\n",
    "\n",
    "def validation_preprocessing(volume, label):\n",
    "    \"\"\"Process validation data by only adding a channel.\"\"\"\n",
    "    volume = tf.expand_dims(volume, axis=3)\n",
    "    return volume, label"
   ]
  },
  {
   "cell_type": "code",
   "execution_count": null,
   "id": "aa8e1b82-c6ec-42eb-a23e-0f8d7ed83699",
   "metadata": {
    "tags": []
   },
   "outputs": [],
   "source": [
    "# Define data loaders.\n",
    "train_loader = tf.data.Dataset.from_tensor_slices((X_train, y_train))\n",
    "validation_loader = tf.data.Dataset.from_tensor_slices((X_val, y_val))\n",
    "\n",
    "batch_size = 2\n",
    "# Augment the on the fly during training.\n",
    "train_dataset = (\n",
    "    train_loader.shuffle(len(X_train))\n",
    "    .map(train_preprocessing)\n",
    "    .batch(batch_size)\n",
    "    .prefetch(2)\n",
    ")\n",
    "# Only rescale.\n",
    "validation_dataset = (\n",
    "    validation_loader.shuffle(len(X_val))\n",
    "    .map(validation_preprocessing)\n",
    "    .batch(batch_size)\n",
    "    .prefetch(2)\n",
    ")"
   ]
  },
  {
   "cell_type": "code",
   "execution_count": null,
   "id": "42b56421-4cc8-4495-90f5-d2fbca71800a",
   "metadata": {
    "tags": []
   },
   "outputs": [],
   "source": [
    "import matplotlib.pyplot as plt\n",
    "data = train_dataset.take(1)\n",
    "images, labels = list(data)[0]\n",
    "images = images.numpy()\n",
    "image = images[0]\n",
    "print(\"Dimension of the CT scan is:\", image.shape)\n",
    "plt.imshow(np.squeeze(image[:, :, 30]), cmap=\"gray\")"
   ]
  },
  {
   "cell_type": "code",
   "execution_count": 23,
   "id": "422f19d0-eb21-48dc-ba65-78a8c1ba5b5c",
   "metadata": {
    "tags": []
   },
   "outputs": [
    {
     "name": "stdout",
     "output_type": "stream",
     "text": [
      "128/128 - 1191s - loss: 0.5833 - acc: 0.6914 - val_loss: 0.8827 - val_acc: 0.4844 - 1191s/epoch - 9s/step\n",
      "Epoch 9/100\n",
      "128/128 - 933s - loss: 0.5859 - acc: 0.6719 - val_loss: 0.9111 - val_acc: 0.4531 - 933s/epoch - 7s/step\n",
      "Epoch 10/100\n",
      "128/128 - 923s - loss: 0.5702 - acc: 0.7070 - val_loss: 0.9128 - val_acc: 0.4219 - 923s/epoch - 7s/step\n",
      "Epoch 11/100\n",
      "128/128 - 911s - loss: 0.5553 - acc: 0.7188 - val_loss: 0.9737 - val_acc: 0.4062 - 911s/epoch - 7s/step\n",
      "Epoch 12/100\n",
      "128/128 - 964s - loss: 0.5324 - acc: 0.7227 - val_loss: 0.9893 - val_acc: 0.4688 - 964s/epoch - 8s/step\n",
      "Epoch 13/100\n",
      "128/128 - 902s - loss: 0.5621 - acc: 0.7188 - val_loss: 0.9571 - val_acc: 0.4531 - 902s/epoch - 7s/step\n",
      "Epoch 14/100\n",
      "128/128 - 967s - loss: 0.5374 - acc: 0.7266 - val_loss: 0.9767 - val_acc: 0.4531 - 967s/epoch - 8s/step\n",
      "Epoch 15/100\n",
      "128/128 - 1111s - loss: 0.5390 - acc: 0.7148 - val_loss: 0.9932 - val_acc: 0.4062 - 1111s/epoch - 9s/step\n",
      "Epoch 16/100\n",
      "128/128 - 984s - loss: 0.5537 - acc: 0.7031 - val_loss: 0.9975 - val_acc: 0.4531 - 984s/epoch - 8s/step\n",
      "Epoch 17/100\n",
      "128/128 - 900s - loss: 0.5067 - acc: 0.7461 - val_loss: 1.0282 - val_acc: 0.4688 - 900s/epoch - 7s/step\n",
      "Epoch 18/100\n",
      "128/128 - 887s - loss: 0.5348 - acc: 0.7188 - val_loss: 0.9948 - val_acc: 0.4531 - 887s/epoch - 7s/step\n",
      "Epoch 19/100\n",
      "128/128 - 896s - loss: 0.5300 - acc: 0.7383 - val_loss: 0.9480 - val_acc: 0.5156 - 896s/epoch - 7s/step\n",
      "Epoch 20/100\n",
      "128/128 - 888s - loss: 0.5404 - acc: 0.7148 - val_loss: 0.9777 - val_acc: 0.4531 - 888s/epoch - 7s/step\n",
      "Epoch 21/100\n",
      "128/128 - 908s - loss: 0.5510 - acc: 0.6992 - val_loss: 1.0426 - val_acc: 0.4375 - 908s/epoch - 7s/step\n",
      "Epoch 22/100\n",
      "128/128 - 881s - loss: 0.5523 - acc: 0.7383 - val_loss: 1.0579 - val_acc: 0.4375 - 881s/epoch - 7s/step\n",
      "Epoch 23/100\n",
      "128/128 - 895s - loss: 0.4842 - acc: 0.7695 - val_loss: 1.0684 - val_acc: 0.4531 - 895s/epoch - 7s/step\n",
      "Epoch 24/100\n",
      "128/128 - 895s - loss: 0.5267 - acc: 0.7422 - val_loss: 1.0473 - val_acc: 0.4531 - 895s/epoch - 7s/step\n",
      "Epoch 25/100\n",
      "128/128 - 903s - loss: 0.4879 - acc: 0.7656 - val_loss: 1.0943 - val_acc: 0.4219 - 903s/epoch - 7s/step\n",
      "Epoch 26/100\n",
      "128/128 - 889s - loss: 0.5435 - acc: 0.6953 - val_loss: 1.0475 - val_acc: 0.4531 - 889s/epoch - 7s/step\n",
      "Epoch 27/100\n",
      "128/128 - 897s - loss: 0.5077 - acc: 0.7695 - val_loss: 1.0403 - val_acc: 0.4844 - 897s/epoch - 7s/step\n",
      "Epoch 28/100\n",
      "128/128 - 892s - loss: 0.5357 - acc: 0.7031 - val_loss: 1.0450 - val_acc: 0.5000 - 892s/epoch - 7s/step\n",
      "Epoch 29/100\n",
      "128/128 - 904s - loss: 0.5351 - acc: 0.7109 - val_loss: 1.1009 - val_acc: 0.5156 - 904s/epoch - 7s/step\n",
      "Epoch 30/100\n",
      "128/128 - 894s - loss: 0.5129 - acc: 0.7461 - val_loss: 1.1615 - val_acc: 0.5000 - 894s/epoch - 7s/step\n",
      "Epoch 31/100\n",
      "128/128 - 897s - loss: 0.5301 - acc: 0.7188 - val_loss: 1.0462 - val_acc: 0.5156 - 897s/epoch - 7s/step\n",
      "Epoch 32/100\n",
      "128/128 - 897s - loss: 0.5051 - acc: 0.7305 - val_loss: 1.0694 - val_acc: 0.4844 - 897s/epoch - 7s/step\n",
      "Epoch 33/100\n",
      "128/128 - 902s - loss: 0.4963 - acc: 0.7734 - val_loss: 1.0789 - val_acc: 0.5156 - 902s/epoch - 7s/step\n",
      "Epoch 34/100\n",
      "128/128 - 889s - loss: 0.4769 - acc: 0.7461 - val_loss: 1.0544 - val_acc: 0.5156 - 889s/epoch - 7s/step\n"
     ]
    },
    {
     "data": {
      "text/plain": [
       "<keras.callbacks.History at 0x1c8d1a94fa0>"
      ]
     },
     "execution_count": 23,
     "metadata": {},
     "output_type": "execute_result"
    }
   ],
   "source": [
    "\n",
    "# Compile model.\n",
    "initial_learning_rate = 0.0001\n",
    "lr_schedule = keras.optimizers.schedules.ExponentialDecay(\n",
    "    initial_learning_rate, decay_steps=100000, decay_rate=0.96, staircase=True\n",
    ")\n",
    "model.compile(\n",
    "    loss=\"binary_crossentropy\",\n",
    "    optimizer=keras.optimizers.Adam(learning_rate=lr_schedule),\n",
    "    metrics=[\"acc\"],\n",
    ")\n",
    "\n",
    "# Define callbacks.\n",
    "checkpoint_cb = keras.callbacks.ModelCheckpoint(\n",
    "    \"3d_image_classification.h5\", save_best_only=True\n",
    ")\n",
    "early_stopping_cb = keras.callbacks.EarlyStopping(monitor=\"val_acc\", patience=15)\n",
    "\n",
    "# Train the model, doing validation at the end of each epoch\n",
    "epochs = 100\n",
    "model.fit(\n",
    "    train_dataset,\n",
    "    validation_data=validation_dataset,\n",
    "    epochs=epochs,\n",
    "    shuffle=True,\n",
    "    verbose=2,\n",
    "    callbacks=[checkpoint_cb, early_stopping_cb],\n",
    ")"
   ]
  },
  {
   "cell_type": "markdown",
   "id": "f33cdd8c-3a3b-4268-b524-9aa873927d5f",
   "metadata": {},
   "source": [
    "# Visualizing model performance"
   ]
  },
  {
   "cell_type": "code",
   "execution_count": 24,
   "id": "4021729b-0e6d-4c8f-96be-ac047945d09a",
   "metadata": {
    "scrolled": true
   },
   "outputs": [
    {
     "data": {
      "image/png": "[encoded data removed]",
      "text/plain": [
       "<Figure size 1000x500 with 2 Axes>"
      ]
     },
     "metadata": {},
     "output_type": "display_data"
    }
   ],
   "source": [
    "fig, ax = plt.subplots(1, 2, figsize=(10, 5))\n",
    "ax = ax.ravel()\n",
    "\n",
    "for i, metric in enumerate([\"acc\", \"loss\"]):\n",
    "    ax[i].plot(model.history.history[metric])\n",
    "    ax[i].plot(model.history.history[\"val_\" + metric])\n",
    "    ax[i].set_title(\"Model {}\".format(metric))\n",
    "    ax[i].set_xlabel(\"epochs\")\n",
    "    ax[i].set_ylabel(metric)\n",
    "    ax[i].legend([\"train\", \"val\"])"
   ]
  },
  {
   "cell_type": "code",
   "execution_count": null,
   "id": "5a841cf3-0d43-47b8-b3f7-a07141f3864e",
   "metadata": {},
   "outputs": [],
   "source": []
  }
 ],
 "metadata": {
  "kernelspec": {
   "display_name": "capstone_env",
   "language": "python",
   "name": "capstone_env"
  },
  "language_info": {
   "codemirror_mode": {
    "name": "ipython",
    "version": 3
   },
   "file_extension": ".py",
   "mimetype": "text/x-python",
   "name": "python",
   "nbconvert_exporter": "python",
   "pygments_lexer": "ipython3",
   "version": "3.10.8"
  }
 },
 "nbformat": 4,
 "nbformat_minor": 5
}
